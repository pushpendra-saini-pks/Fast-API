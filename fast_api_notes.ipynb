{
 "cells": [
  {
   "cell_type": "markdown",
   "metadata": {},
   "source": [
    "## uvicorn \n",
    "\n",
    "uvicorn is an ASGI(Asynchronous Server Gateway interface) server implementation for python.its designed to be fast and efficint , supporting asynchronous programming and capable of handling a large number of simultaneous connections .uvicorn is commonly used to serve web applications built with frameworks like FastApi , Starlette, and others that are based on ASGI."
   ]
  },
  {
   "cell_type": "markdown",
   "metadata": {},
   "source": [
    "## key features of uvicorn \n",
    "\n",
    "1. asynchronous capabilities\n",
    "2. HTTP/2 support \n",
    "3. WebSockets\n",
    "4. High Performance \n",
    "5. easy to use "
   ]
  },
  {
   "cell_type": "markdown",
   "metadata": {},
   "source": [
    "## Pydantic \n",
    "\n",
    "Pydantic is a data validation and settings managment library using python type annotations .it provides powerful and easy to use data validation and parsing based on pythons type hints.\n",
    "\n",
    "Key Features of pydantic data validation : Automatically validates input data  against specified types and constraints.\n",
    "\n",
    " 1. parsing\n",
    " 2. Error Handling \n",
    " 3. Type Hints \n",
    " 4. performance "
   ]
  },
  {
   "cell_type": "code",
   "execution_count": null,
   "metadata": {},
   "outputs": [],
   "source": []
  }
 ],
 "metadata": {
  "kernelspec": {
   "display_name": "Python 3",
   "language": "python",
   "name": "python3"
  },
  "language_info": {
   "name": "python",
   "version": "3.12.0"
  }
 },
 "nbformat": 4,
 "nbformat_minor": 2
}
